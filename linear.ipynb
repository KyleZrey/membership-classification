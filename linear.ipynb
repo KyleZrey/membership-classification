{
 "cells": [
  {
   "cell_type": "code",
   "execution_count": 63,
   "metadata": {},
   "outputs": [],
   "source": [
    "from sklearn.metrics import accuracy_score, precision_score, recall_score, f1_score, confusion_matrix, roc_auc_score\n",
    "from sklearn.model_selection import train_test_split\n",
    "from sklearn.linear_model import LinearRegression\n",
    "from sklearn.preprocessing import StandardScaler\n",
    "import matplotlib.pyplot as plt\n",
    "import seaborn as sns\n",
    "import pandas as pd\n",
    "import numpy as np"
   ]
  },
  {
   "cell_type": "code",
   "execution_count": 64,
   "metadata": {},
   "outputs": [],
   "source": [
    "df = pd.read_parquet('clean.parquet')"
   ]
  },
  {
   "cell_type": "code",
   "execution_count": 65,
   "metadata": {},
   "outputs": [
    {
     "data": {
      "text/html": [
       "<div>\n",
       "<style scoped>\n",
       "    .dataframe tbody tr th:only-of-type {\n",
       "        vertical-align: middle;\n",
       "    }\n",
       "\n",
       "    .dataframe tbody tr th {\n",
       "        vertical-align: top;\n",
       "    }\n",
       "\n",
       "    .dataframe thead th {\n",
       "        text-align: right;\n",
       "    }\n",
       "</style>\n",
       "<table border=\"1\" class=\"dataframe\">\n",
       "  <thead>\n",
       "    <tr style=\"text-align: right;\">\n",
       "      <th></th>\n",
       "      <th>Education</th>\n",
       "      <th>Marital_Status</th>\n",
       "      <th>Income</th>\n",
       "      <th>Recency</th>\n",
       "      <th>NumDealsPurchases</th>\n",
       "      <th>Response</th>\n",
       "      <th>Complain</th>\n",
       "      <th>MntSpent</th>\n",
       "      <th>NumPurchases</th>\n",
       "      <th>Age</th>\n",
       "      <th>DaysEnrolled</th>\n",
       "    </tr>\n",
       "  </thead>\n",
       "  <tbody>\n",
       "    <tr>\n",
       "      <th>2162</th>\n",
       "      <td>Graduation</td>\n",
       "      <td>Married</td>\n",
       "      <td>65747.0</td>\n",
       "      <td>96</td>\n",
       "      <td>4</td>\n",
       "      <td>0</td>\n",
       "      <td>0</td>\n",
       "      <td>411</td>\n",
       "      <td>15</td>\n",
       "      <td>55</td>\n",
       "      <td>3520</td>\n",
       "    </tr>\n",
       "    <tr>\n",
       "      <th>1025</th>\n",
       "      <td>Master</td>\n",
       "      <td>Together</td>\n",
       "      <td>43018.0</td>\n",
       "      <td>46</td>\n",
       "      <td>1</td>\n",
       "      <td>0</td>\n",
       "      <td>0</td>\n",
       "      <td>56</td>\n",
       "      <td>6</td>\n",
       "      <td>50</td>\n",
       "      <td>4058</td>\n",
       "    </tr>\n",
       "    <tr>\n",
       "      <th>1772</th>\n",
       "      <td>Graduation</td>\n",
       "      <td>Together</td>\n",
       "      <td>63381.0</td>\n",
       "      <td>78</td>\n",
       "      <td>4</td>\n",
       "      <td>0</td>\n",
       "      <td>0</td>\n",
       "      <td>763</td>\n",
       "      <td>22</td>\n",
       "      <td>64</td>\n",
       "      <td>4304</td>\n",
       "    </tr>\n",
       "    <tr>\n",
       "      <th>372</th>\n",
       "      <td>2n Cycle</td>\n",
       "      <td>Married</td>\n",
       "      <td>32146.0</td>\n",
       "      <td>16</td>\n",
       "      <td>2</td>\n",
       "      <td>0</td>\n",
       "      <td>0</td>\n",
       "      <td>52</td>\n",
       "      <td>6</td>\n",
       "      <td>41</td>\n",
       "      <td>3365</td>\n",
       "    </tr>\n",
       "    <tr>\n",
       "      <th>950</th>\n",
       "      <td>Graduation</td>\n",
       "      <td>Together</td>\n",
       "      <td>28587.0</td>\n",
       "      <td>42</td>\n",
       "      <td>3</td>\n",
       "      <td>0</td>\n",
       "      <td>0</td>\n",
       "      <td>43</td>\n",
       "      <td>6</td>\n",
       "      <td>46</td>\n",
       "      <td>3368</td>\n",
       "    </tr>\n",
       "    <tr>\n",
       "      <th>1824</th>\n",
       "      <td>Basic</td>\n",
       "      <td>Married</td>\n",
       "      <td>14421.0</td>\n",
       "      <td>81</td>\n",
       "      <td>1</td>\n",
       "      <td>0</td>\n",
       "      <td>0</td>\n",
       "      <td>2</td>\n",
       "      <td>3</td>\n",
       "      <td>28</td>\n",
       "      <td>3656</td>\n",
       "    </tr>\n",
       "    <tr>\n",
       "      <th>463</th>\n",
       "      <td>Graduation</td>\n",
       "      <td>Single</td>\n",
       "      <td>45906.0</td>\n",
       "      <td>20</td>\n",
       "      <td>2</td>\n",
       "      <td>0</td>\n",
       "      <td>0</td>\n",
       "      <td>335</td>\n",
       "      <td>13</td>\n",
       "      <td>60</td>\n",
       "      <td>3883</td>\n",
       "    </tr>\n",
       "    <tr>\n",
       "      <th>2220</th>\n",
       "      <td>Master</td>\n",
       "      <td>Together</td>\n",
       "      <td>24401.0</td>\n",
       "      <td>98</td>\n",
       "      <td>3</td>\n",
       "      <td>0</td>\n",
       "      <td>0</td>\n",
       "      <td>318</td>\n",
       "      <td>13</td>\n",
       "      <td>45</td>\n",
       "      <td>4191</td>\n",
       "    </tr>\n",
       "    <tr>\n",
       "      <th>1343</th>\n",
       "      <td>PhD</td>\n",
       "      <td>Married</td>\n",
       "      <td>58482.0</td>\n",
       "      <td>59</td>\n",
       "      <td>2</td>\n",
       "      <td>0</td>\n",
       "      <td>0</td>\n",
       "      <td>698</td>\n",
       "      <td>20</td>\n",
       "      <td>69</td>\n",
       "      <td>3367</td>\n",
       "    </tr>\n",
       "    <tr>\n",
       "      <th>119</th>\n",
       "      <td>Graduation</td>\n",
       "      <td>Single</td>\n",
       "      <td>70566.0</td>\n",
       "      <td>4</td>\n",
       "      <td>2</td>\n",
       "      <td>0</td>\n",
       "      <td>0</td>\n",
       "      <td>624</td>\n",
       "      <td>20</td>\n",
       "      <td>56</td>\n",
       "      <td>3908</td>\n",
       "    </tr>\n",
       "  </tbody>\n",
       "</table>\n",
       "</div>"
      ],
      "text/plain": [
       "       Education Marital_Status   Income  Recency  NumDealsPurchases  \\\n",
       "2162  Graduation        Married  65747.0       96                  4   \n",
       "1025      Master       Together  43018.0       46                  1   \n",
       "1772  Graduation       Together  63381.0       78                  4   \n",
       "372     2n Cycle        Married  32146.0       16                  2   \n",
       "950   Graduation       Together  28587.0       42                  3   \n",
       "1824       Basic        Married  14421.0       81                  1   \n",
       "463   Graduation         Single  45906.0       20                  2   \n",
       "2220      Master       Together  24401.0       98                  3   \n",
       "1343         PhD        Married  58482.0       59                  2   \n",
       "119   Graduation         Single  70566.0        4                  2   \n",
       "\n",
       "      Response  Complain  MntSpent  NumPurchases  Age  DaysEnrolled  \n",
       "2162         0         0       411            15   55          3520  \n",
       "1025         0         0        56             6   50          4058  \n",
       "1772         0         0       763            22   64          4304  \n",
       "372          0         0        52             6   41          3365  \n",
       "950          0         0        43             6   46          3368  \n",
       "1824         0         0         2             3   28          3656  \n",
       "463          0         0       335            13   60          3883  \n",
       "2220         0         0       318            13   45          4191  \n",
       "1343         0         0       698            20   69          3367  \n",
       "119          0         0       624            20   56          3908  "
      ]
     },
     "execution_count": 65,
     "metadata": {},
     "output_type": "execute_result"
    }
   ],
   "source": [
    "df.sample(10)"
   ]
  },
  {
   "cell_type": "markdown",
   "metadata": {},
   "source": [
    "### One-Hot Encoding for Categorical Values"
   ]
  },
  {
   "cell_type": "code",
   "execution_count": 66,
   "metadata": {},
   "outputs": [],
   "source": [
    "def one_hot_encode(data, column):\n",
    "    encoded = pd.get_dummies(data[column], drop_first= True) \n",
    "    data = data.drop(column, axis = 1)\n",
    "    data = data.join(encoded)\n",
    "    return data"
   ]
  },
  {
   "cell_type": "code",
   "execution_count": 67,
   "metadata": {},
   "outputs": [],
   "source": [
    "df = one_hot_encode(df, 'Education')\n",
    "df = one_hot_encode(df, 'Marital_Status')"
   ]
  },
  {
   "cell_type": "code",
   "execution_count": 68,
   "metadata": {},
   "outputs": [
    {
     "data": {
      "text/plain": [
       "Income               float64\n",
       "Recency                int64\n",
       "NumDealsPurchases      int64\n",
       "Response               int64\n",
       "Complain               int64\n",
       "MntSpent               int64\n",
       "NumPurchases           int64\n",
       "Age                    int64\n",
       "DaysEnrolled           int64\n",
       "Basic                   bool\n",
       "Graduation              bool\n",
       "Master                  bool\n",
       "PhD                     bool\n",
       "Married                 bool\n",
       "Single                  bool\n",
       "Together                bool\n",
       "Widow                   bool\n",
       "dtype: object"
      ]
     },
     "execution_count": 68,
     "metadata": {},
     "output_type": "execute_result"
    }
   ],
   "source": [
    "df.dtypes"
   ]
  },
  {
   "cell_type": "markdown",
   "metadata": {},
   "source": [
    "### Splitting Output from Input Space"
   ]
  },
  {
   "cell_type": "code",
   "execution_count": 69,
   "metadata": {},
   "outputs": [],
   "source": [
    "X = df.drop('Response', axis= 1) \n",
    "y = df['Response']"
   ]
  },
  {
   "cell_type": "markdown",
   "metadata": {},
   "source": [
    "### Splitting Training and Test"
   ]
  },
  {
   "cell_type": "code",
   "execution_count": 70,
   "metadata": {},
   "outputs": [],
   "source": [
    "X_train, X_test, y_train, y_test = train_test_split(X, y, test_size= 0.2, random_state = 42)"
   ]
  },
  {
   "cell_type": "markdown",
   "metadata": {},
   "source": [
    "### Modelling"
   ]
  },
  {
   "cell_type": "code",
   "execution_count": 71,
   "metadata": {},
   "outputs": [],
   "source": [
    "#Standardization\n",
    "sc = StandardScaler()\n",
    "X_train = sc.fit_transform(X_train) \n",
    "X_test = sc.transform(X_test)"
   ]
  },
  {
   "cell_type": "code",
   "execution_count": 72,
   "metadata": {},
   "outputs": [
    {
     "data": {
      "text/plain": [
       "array([ 0.00051835, -0.06744459,  0.00957543,  0.00307377,  0.07973415,\n",
       "       -0.0266769 , -0.00480953,  0.05900836, -0.01028608,  0.00460138,\n",
       "        0.00926648,  0.03717596, -0.04206181,  0.00817486, -0.04779051,\n",
       "        0.00337671])"
      ]
     },
     "execution_count": 72,
     "metadata": {},
     "output_type": "execute_result"
    }
   ],
   "source": [
    "#Simple Linear Regression\n",
    "model = LinearRegression()\n",
    "model.fit(X_train, y_train)\n",
    "model.coef_"
   ]
  },
  {
   "cell_type": "code",
   "execution_count": 73,
   "metadata": {},
   "outputs": [
    {
     "data": {
      "text/plain": [
       "array([ 7.03725294e-02,  1.59823583e-01,  1.05966026e-01,  2.16599642e-01,\n",
       "        1.97081096e-01,  8.98425779e-02, -7.62091870e-02,  1.20523708e-01,\n",
       "        7.94373748e-02,  1.58501816e-01, -1.65575113e-02,  1.36494266e-01,\n",
       "        1.17025288e-01,  9.68424312e-02, -5.47345551e-03,  3.19355062e-01,\n",
       "        1.93765807e-02,  3.65351387e-01,  1.54152730e-01,  2.45822656e-01,\n",
       "        1.55087645e-01,  1.42460083e-01,  1.98957414e-01,  3.42457800e-01,\n",
       "        3.36484438e-01, -3.06367594e-02, -3.39353241e-02, -1.82672173e-01,\n",
       "        1.71842371e-01,  2.91591743e-01,  2.29433972e-01,  1.59582167e-01,\n",
       "        8.91624091e-02,  1.16247469e-01,  2.58635129e-01,  7.51869017e-02,\n",
       "        7.53223855e-03,  2.16712838e-01,  9.19068161e-02,  1.32786913e-01,\n",
       "        3.72960161e-01,  1.72677951e-02,  1.67276355e-01,  1.58404151e-01,\n",
       "        2.12612920e-01,  1.21802298e-01,  1.72991593e-02,  2.14396837e-01,\n",
       "        9.51267575e-02,  4.24872128e-02,  2.39584542e-01,  1.28419165e-01,\n",
       "        9.26040623e-02,  4.12679915e-01,  2.37420633e-01,  9.10774507e-02,\n",
       "        2.19918509e-01, -1.78660093e-02,  7.68005746e-02,  7.61842495e-02,\n",
       "        5.47590414e-02,  1.32066848e-01,  1.45481796e-01,  3.20537289e-02,\n",
       "        1.44876430e-01,  3.50511333e-01,  1.65738774e-01,  1.15804540e-01,\n",
       "        1.23560346e-01,  2.56164460e-01,  1.36270891e-01,  3.98455286e-01,\n",
       "        1.67917055e-01,  2.20271660e-01,  1.75395884e-01,  1.76608065e-01,\n",
       "        5.04016320e-02,  1.24370593e-01, -1.97526432e-02,  2.22006680e-01,\n",
       "        1.53382327e-02,  1.36329844e-01,  1.53380406e-01,  5.96885142e-02,\n",
       "        1.17001085e-01,  3.06354313e-01,  1.67774353e-01,  1.49340190e-01,\n",
       "        3.75177835e-01,  3.57309493e-01,  5.09456371e-02,  8.66279908e-02,\n",
       "        3.40549702e-01,  1.32796433e-01,  1.65006724e-01,  2.15140111e-01,\n",
       "        1.09523016e-01,  6.15712758e-02,  1.93507983e-01,  1.57958386e-01,\n",
       "        1.19985666e-01,  3.53215368e-02, -3.77832130e-02,  2.06615818e-01,\n",
       "        2.95285574e-01,  3.05677766e-02,  2.66471097e-01, -5.41641094e-02,\n",
       "       -1.26929374e-02,  1.63949108e-01, -3.22685932e-02,  4.48126841e-01,\n",
       "        4.26949522e-02,  8.14483823e-02,  3.59399513e-01,  1.40514593e-01,\n",
       "       -2.57045613e-02,  1.14295222e-01,  4.02695871e-02,  1.40418900e-01,\n",
       "        9.70666780e-02,  1.63260780e-01,  2.29907544e-01,  6.86430322e-02,\n",
       "        7.14903958e-02, -7.98215377e-02, -6.44145045e-02,  1.61160922e-01,\n",
       "        1.84361455e-01,  8.13853562e-02,  1.39174943e-02,  5.97898703e-02,\n",
       "        2.93252325e-01,  2.02318274e-02,  8.90774804e-02,  2.19627641e-02,\n",
       "        6.62368750e-02,  1.98643998e-01,  2.20906408e-01,  1.26198338e-02,\n",
       "        4.16048936e-02, -8.93300546e-02,  4.49708891e-01,  1.48117341e-01,\n",
       "        2.55700845e-01, -1.02801129e-01,  3.22352505e-01, -1.01315919e-01,\n",
       "        7.39595730e-02,  4.64924966e-01,  4.09298514e-01,  1.15508906e-02,\n",
       "        2.21588584e-01,  2.29963833e-01,  2.48034432e-01,  7.38683084e-02,\n",
       "        1.69141051e-01,  1.82932432e-01,  1.03275001e-01,  1.37168423e-01,\n",
       "        1.66988452e-01,  1.02467022e-01,  1.32993206e-01,  2.78352537e-01,\n",
       "        1.91233373e-02,  1.65081498e-01,  1.80722892e-01,  7.72295740e-02,\n",
       "        1.88111298e-01,  2.87607167e-01,  1.80684483e-01,  3.08775751e-01,\n",
       "        1.65576339e-01,  1.18255322e-01,  4.64924966e-01,  2.68960171e-01,\n",
       "        2.87794264e-02,  7.75468323e-02,  2.18163676e-01,  2.32157649e-01,\n",
       "        6.62498490e-02, -3.91106538e-02,  1.69537534e-01,  1.23738398e-01,\n",
       "       -6.50454421e-02,  6.74169246e-02,  3.62939257e-01, -8.73486320e-02,\n",
       "        7.95002343e-02,  1.72634155e-01,  7.83453481e-02,  9.89273994e-02,\n",
       "        3.85014109e-01,  1.21084436e-01,  1.26198338e-02,  3.18371923e-01,\n",
       "        3.55560163e-02,  3.67934479e-02,  2.57326563e-01,  4.09596416e-01,\n",
       "       -1.60125644e-02,  1.60899052e-01,  2.43995225e-01, -6.90917433e-02,\n",
       "        4.47672563e-01,  6.53974100e-02,  1.77705257e-02, -2.70719685e-02,\n",
       "        2.66919287e-01, -8.42157061e-02, -1.54126962e-01,  8.69359893e-02,\n",
       "        5.92709967e-02,  1.78765211e-01,  1.45220081e-01,  2.98028861e-01,\n",
       "        1.33020138e-01,  8.25958983e-02, -5.20116369e-02,  2.02542874e-01,\n",
       "        2.11897666e-01,  9.27503865e-02,  1.86560623e-01, -4.25132236e-02,\n",
       "        8.25958983e-02,  1.74881979e-01,  4.12988007e-02,  2.32495222e-01,\n",
       "        1.79646187e-01,  3.60356006e-01,  1.37542818e-01,  1.51023359e-01,\n",
       "        4.48126841e-01, -4.33899310e-02,  3.62171161e-01,  2.50157480e-01,\n",
       "        3.95207252e-02, -8.63544659e-02,  1.80722892e-01,  1.27112382e-01,\n",
       "        2.74214377e-01,  9.92482228e-02,  1.62183243e-01,  2.59661413e-01,\n",
       "        1.29757251e-01,  1.19005636e-01,  1.78731941e-01,  9.07370888e-02,\n",
       "        1.23887341e-01,  1.95622551e-01,  3.72160416e-02,  6.28296222e-02,\n",
       "        1.44570279e-01,  2.76276158e-02,  1.38505097e-01, -6.74260905e-02,\n",
       "       -6.86190974e-03,  7.08368490e-02,  1.73000263e-01,  3.21883519e-01,\n",
       "        4.43121291e-02,  4.06217756e-02,  1.24700615e-02,  5.99437378e-02,\n",
       "       -3.48504081e-02,  5.16516632e-02,  2.06768557e-01,  1.55906100e-01,\n",
       "        1.82589650e-01,  4.72991090e-02,  1.35794275e-01,  3.12558133e-01,\n",
       "        2.63947275e-01,  1.10703227e-01, -1.06511214e-02,  3.84353892e-02,\n",
       "        7.15208236e-02,  2.33907623e-01,  1.60462611e-01,  3.08564977e-01,\n",
       "       -4.23054056e-02,  9.82115611e-02,  4.00485419e-02, -3.87720448e-02,\n",
       "       -2.87340643e-02,  1.77660734e-01,  1.31368011e-01,  9.90786460e-02,\n",
       "        4.48761028e-02,  1.10954321e-01,  3.47743001e-01,  2.61598854e-01,\n",
       "        1.74861385e-01, -1.12189785e-01,  1.45627170e-01,  8.11457149e-02,\n",
       "        1.10941192e-01,  1.33311166e-02,  3.86469733e-01,  2.42259160e-01,\n",
       "        2.02047033e-01, -8.78092923e-03,  1.32178428e-02,  1.45687325e-01,\n",
       "        2.75243988e-01,  2.84224327e-01,  2.29927257e-01,  5.45059161e-02,\n",
       "        3.98087921e-03,  1.24793034e-01,  1.05536196e-01,  2.11295392e-01,\n",
       "        1.25648556e-01,  7.87602097e-02,  7.36453010e-02,  1.32037567e-01,\n",
       "        4.88385610e-02, -9.18298020e-02,  7.95843468e-02,  3.83292882e-01,\n",
       "        2.85920237e-01,  4.60728456e-02, -1.28488736e-01,  1.15656634e-01,\n",
       "        3.72954501e-01,  1.45656286e-01,  6.24915866e-02,  2.30938806e-01,\n",
       "        3.73518207e-01,  2.19588590e-01,  3.52803994e-01,  1.10367747e-01,\n",
       "       -9.14402519e-02, -4.38951962e-02, -8.55029017e-03,  4.37032447e-01,\n",
       "        1.28026154e-01,  2.53673167e-01,  1.07792590e-01,  3.63764602e-01,\n",
       "       -1.91354810e-03,  2.67256712e-01,  4.45913691e-02,  2.41217206e-01,\n",
       "        1.73287383e-01, -1.07694571e-01,  2.49485543e-02,  9.77440477e-02,\n",
       "        1.66859847e-01, -1.54532141e-02,  4.30329517e-04,  6.42127123e-02,\n",
       "        1.15889833e-01,  3.52486354e-01,  1.65614066e-03,  1.25127401e-01,\n",
       "       -7.45657331e-02,  1.77928688e-01,  1.73896971e-01,  5.57262737e-02,\n",
       "        2.17085387e-01,  4.03830900e-01,  3.03915002e-01,  5.05724497e-02,\n",
       "        9.32508705e-02,  1.72459659e-01,  1.60611938e-02,  2.71016572e-01,\n",
       "        1.13536374e-01,  8.47228622e-02,  9.22072257e-02,  2.91485026e-01,\n",
       "        3.60883576e-01,  6.53974100e-02, -9.71181263e-02, -1.54532141e-02,\n",
       "        1.70264885e-01,  3.56051990e-01, -7.41394573e-02,  2.00878044e-01,\n",
       "        2.17317734e-01,  1.11155319e-01,  8.64943375e-02,  1.24410898e-01,\n",
       "        3.42037032e-01,  2.10956093e-01,  4.31902472e-02,  1.41928662e-01,\n",
       "        3.45993247e-01,  5.04492488e-02, -9.24940549e-03,  4.48734127e-02,\n",
       "        1.60341933e-01,  1.23546885e-01,  2.68726547e-01,  3.30769646e-02,\n",
       "        1.73913257e-01,  4.65219310e-02,  3.10583170e-01,  6.15682486e-02,\n",
       "        1.65522373e-01,  1.18070610e-02,  2.37023853e-01,  6.77427173e-02,\n",
       "       -3.52713036e-02,  2.05728028e-01,  3.71316681e-01,  3.77893850e-02,\n",
       "        3.44579749e-01,  1.05754724e-01, -1.43980401e-01,  1.20102450e-01,\n",
       "       -3.47913490e-02,  7.28551836e-02, -6.50593371e-02,  1.04595326e-01,\n",
       "        2.17950215e-01,  8.66966540e-02,  1.49031191e-01,  1.22848498e-01,\n",
       "        3.55870622e-01,  2.55070568e-02, -5.44960269e-02])"
      ]
     },
     "execution_count": 73,
     "metadata": {},
     "output_type": "execute_result"
    }
   ],
   "source": [
    "y_preds = model.predict(X_test)\n",
    "y_preds"
   ]
  },
  {
   "cell_type": "code",
   "execution_count": 74,
   "metadata": {},
   "outputs": [
    {
     "data": {
      "text/plain": [
       "576     0\n",
       "2107    0\n",
       "445     0\n",
       "559     0\n",
       "204     1\n",
       "       ..\n",
       "475     0\n",
       "1531    0\n",
       "76      1\n",
       "1997    0\n",
       "2009    0\n",
       "Name: Response, Length: 423, dtype: int64"
      ]
     },
     "execution_count": 74,
     "metadata": {},
     "output_type": "execute_result"
    }
   ],
   "source": [
    "y_test"
   ]
  }
 ],
 "metadata": {
  "kernelspec": {
   "display_name": "Python 3",
   "language": "python",
   "name": "python3"
  },
  "language_info": {
   "codemirror_mode": {
    "name": "ipython",
    "version": 3
   },
   "file_extension": ".py",
   "mimetype": "text/x-python",
   "name": "python",
   "nbconvert_exporter": "python",
   "pygments_lexer": "ipython3",
   "version": "3.12.1"
  }
 },
 "nbformat": 4,
 "nbformat_minor": 2
}
