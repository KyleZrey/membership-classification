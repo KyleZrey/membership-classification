{
 "cells": [
  {
   "cell_type": "code",
   "execution_count": 1,
   "metadata": {},
   "outputs": [],
   "source": [
    "from sklearn.metrics import accuracy_score, precision_score, recall_score, f1_score, confusion_matrix, roc_auc_score\n",
    "from sklearn.model_selection import train_test_split\n",
    "from sklearn.linear_model import LinearRegression\n",
    "from sklearn.preprocessing import StandardScaler, PolynomialFeatures\n",
    "import matplotlib.pyplot as plt\n",
    "import seaborn as sns\n",
    "import pandas as pd\n",
    "import numpy as np"
   ]
  },
  {
   "cell_type": "code",
   "execution_count": 2,
   "metadata": {},
   "outputs": [],
   "source": [
    "df = pd.read_parquet('clean.parquet')"
   ]
  },
  {
   "cell_type": "code",
   "execution_count": 3,
   "metadata": {},
   "outputs": [
    {
     "data": {
      "text/html": [
       "<div>\n",
       "<style scoped>\n",
       "    .dataframe tbody tr th:only-of-type {\n",
       "        vertical-align: middle;\n",
       "    }\n",
       "\n",
       "    .dataframe tbody tr th {\n",
       "        vertical-align: top;\n",
       "    }\n",
       "\n",
       "    .dataframe thead th {\n",
       "        text-align: right;\n",
       "    }\n",
       "</style>\n",
       "<table border=\"1\" class=\"dataframe\">\n",
       "  <thead>\n",
       "    <tr style=\"text-align: right;\">\n",
       "      <th></th>\n",
       "      <th>Education</th>\n",
       "      <th>Marital_Status</th>\n",
       "      <th>Income</th>\n",
       "      <th>Recency</th>\n",
       "      <th>NumDealsPurchases</th>\n",
       "      <th>Response</th>\n",
       "      <th>Complain</th>\n",
       "      <th>MntSpent</th>\n",
       "      <th>NumPurchases</th>\n",
       "      <th>Age</th>\n",
       "      <th>DaysEnrolled</th>\n",
       "    </tr>\n",
       "  </thead>\n",
       "  <tbody>\n",
       "    <tr>\n",
       "      <th>751</th>\n",
       "      <td>PhD</td>\n",
       "      <td>Married</td>\n",
       "      <td>50150.0</td>\n",
       "      <td>32</td>\n",
       "      <td>2</td>\n",
       "      <td>0</td>\n",
       "      <td>0</td>\n",
       "      <td>273</td>\n",
       "      <td>14</td>\n",
       "      <td>41</td>\n",
       "      <td>3898</td>\n",
       "    </tr>\n",
       "    <tr>\n",
       "      <th>162</th>\n",
       "      <td>Graduation</td>\n",
       "      <td>Together</td>\n",
       "      <td>29672.0</td>\n",
       "      <td>6</td>\n",
       "      <td>1</td>\n",
       "      <td>0</td>\n",
       "      <td>0</td>\n",
       "      <td>13</td>\n",
       "      <td>3</td>\n",
       "      <td>59</td>\n",
       "      <td>3732</td>\n",
       "    </tr>\n",
       "    <tr>\n",
       "      <th>364</th>\n",
       "      <td>Graduation</td>\n",
       "      <td>Married</td>\n",
       "      <td>18929.0</td>\n",
       "      <td>15</td>\n",
       "      <td>1</td>\n",
       "      <td>0</td>\n",
       "      <td>0</td>\n",
       "      <td>40</td>\n",
       "      <td>5</td>\n",
       "      <td>34</td>\n",
       "      <td>4022</td>\n",
       "    </tr>\n",
       "    <tr>\n",
       "      <th>1949</th>\n",
       "      <td>PhD</td>\n",
       "      <td>Married</td>\n",
       "      <td>51012.0</td>\n",
       "      <td>86</td>\n",
       "      <td>1</td>\n",
       "      <td>0</td>\n",
       "      <td>0</td>\n",
       "      <td>174</td>\n",
       "      <td>9</td>\n",
       "      <td>78</td>\n",
       "      <td>3961</td>\n",
       "    </tr>\n",
       "    <tr>\n",
       "      <th>2190</th>\n",
       "      <td>Graduation</td>\n",
       "      <td>Divorced</td>\n",
       "      <td>69932.0</td>\n",
       "      <td>97</td>\n",
       "      <td>2</td>\n",
       "      <td>0</td>\n",
       "      <td>0</td>\n",
       "      <td>737</td>\n",
       "      <td>24</td>\n",
       "      <td>60</td>\n",
       "      <td>3729</td>\n",
       "    </tr>\n",
       "    <tr>\n",
       "      <th>1632</th>\n",
       "      <td>PhD</td>\n",
       "      <td>Married</td>\n",
       "      <td>56242.0</td>\n",
       "      <td>72</td>\n",
       "      <td>5</td>\n",
       "      <td>0</td>\n",
       "      <td>0</td>\n",
       "      <td>864</td>\n",
       "      <td>23</td>\n",
       "      <td>55</td>\n",
       "      <td>4007</td>\n",
       "    </tr>\n",
       "    <tr>\n",
       "      <th>1601</th>\n",
       "      <td>Master</td>\n",
       "      <td>Divorced</td>\n",
       "      <td>61787.0</td>\n",
       "      <td>71</td>\n",
       "      <td>1</td>\n",
       "      <td>0</td>\n",
       "      <td>0</td>\n",
       "      <td>1108</td>\n",
       "      <td>18</td>\n",
       "      <td>37</td>\n",
       "      <td>3911</td>\n",
       "    </tr>\n",
       "    <tr>\n",
       "      <th>538</th>\n",
       "      <td>Basic</td>\n",
       "      <td>Married</td>\n",
       "      <td>30801.0</td>\n",
       "      <td>23</td>\n",
       "      <td>2</td>\n",
       "      <td>0</td>\n",
       "      <td>0</td>\n",
       "      <td>17</td>\n",
       "      <td>4</td>\n",
       "      <td>49</td>\n",
       "      <td>4135</td>\n",
       "    </tr>\n",
       "    <tr>\n",
       "      <th>1324</th>\n",
       "      <td>Master</td>\n",
       "      <td>Together</td>\n",
       "      <td>65176.0</td>\n",
       "      <td>57</td>\n",
       "      <td>4</td>\n",
       "      <td>0</td>\n",
       "      <td>0</td>\n",
       "      <td>1171</td>\n",
       "      <td>21</td>\n",
       "      <td>55</td>\n",
       "      <td>4132</td>\n",
       "    </tr>\n",
       "    <tr>\n",
       "      <th>15</th>\n",
       "      <td>Graduation</td>\n",
       "      <td>Married</td>\n",
       "      <td>54809.0</td>\n",
       "      <td>0</td>\n",
       "      <td>4</td>\n",
       "      <td>0</td>\n",
       "      <td>0</td>\n",
       "      <td>126</td>\n",
       "      <td>8</td>\n",
       "      <td>47</td>\n",
       "      <td>3756</td>\n",
       "    </tr>\n",
       "  </tbody>\n",
       "</table>\n",
       "</div>"
      ],
      "text/plain": [
       "       Education Marital_Status   Income  Recency  NumDealsPurchases  \\\n",
       "751          PhD        Married  50150.0       32                  2   \n",
       "162   Graduation       Together  29672.0        6                  1   \n",
       "364   Graduation        Married  18929.0       15                  1   \n",
       "1949         PhD        Married  51012.0       86                  1   \n",
       "2190  Graduation       Divorced  69932.0       97                  2   \n",
       "1632         PhD        Married  56242.0       72                  5   \n",
       "1601      Master       Divorced  61787.0       71                  1   \n",
       "538        Basic        Married  30801.0       23                  2   \n",
       "1324      Master       Together  65176.0       57                  4   \n",
       "15    Graduation        Married  54809.0        0                  4   \n",
       "\n",
       "      Response  Complain  MntSpent  NumPurchases  Age  DaysEnrolled  \n",
       "751          0         0       273            14   41          3898  \n",
       "162          0         0        13             3   59          3732  \n",
       "364          0         0        40             5   34          4022  \n",
       "1949         0         0       174             9   78          3961  \n",
       "2190         0         0       737            24   60          3729  \n",
       "1632         0         0       864            23   55          4007  \n",
       "1601         0         0      1108            18   37          3911  \n",
       "538          0         0        17             4   49          4135  \n",
       "1324         0         0      1171            21   55          4132  \n",
       "15           0         0       126             8   47          3756  "
      ]
     },
     "execution_count": 3,
     "metadata": {},
     "output_type": "execute_result"
    }
   ],
   "source": [
    "df.sample(10)"
   ]
  },
  {
   "cell_type": "markdown",
   "metadata": {},
   "source": [
    "### One-Hot Encoding for Categorical Values"
   ]
  },
  {
   "cell_type": "code",
   "execution_count": 4,
   "metadata": {},
   "outputs": [],
   "source": [
    "def one_hot_encode(data, column):\n",
    "    encoded = pd.get_dummies(data[column], drop_first= True) \n",
    "    data = data.drop(column, axis = 1)\n",
    "    data = data.join(encoded)\n",
    "    return data"
   ]
  },
  {
   "cell_type": "code",
   "execution_count": 5,
   "metadata": {},
   "outputs": [],
   "source": [
    "df = one_hot_encode(df, 'Marital_Status')"
   ]
  },
  {
   "cell_type": "markdown",
   "metadata": {},
   "source": [
    "### Ordinal Encoding for Education Status"
   ]
  },
  {
   "cell_type": "code",
   "execution_count": 6,
   "metadata": {},
   "outputs": [],
   "source": [
    "ranking_order = {'Basic': 1, 'Graduation': 2, '2n Cycle': 3, 'Master': 4, 'PhD': 5}\n",
    "df['Education'] = df['Education'].map(ranking_order)"
   ]
  },
  {
   "cell_type": "code",
   "execution_count": 7,
   "metadata": {},
   "outputs": [
    {
     "data": {
      "text/plain": [
       "Education              int64\n",
       "Income               float64\n",
       "Recency                int64\n",
       "NumDealsPurchases      int64\n",
       "Response               int64\n",
       "Complain               int64\n",
       "MntSpent               int64\n",
       "NumPurchases           int64\n",
       "Age                    int64\n",
       "DaysEnrolled           int64\n",
       "Married                 bool\n",
       "Single                  bool\n",
       "Together                bool\n",
       "Widow                   bool\n",
       "dtype: object"
      ]
     },
     "execution_count": 7,
     "metadata": {},
     "output_type": "execute_result"
    }
   ],
   "source": [
    "df.dtypes"
   ]
  },
  {
   "cell_type": "markdown",
   "metadata": {},
   "source": [
    "### Splitting Output from Input Space"
   ]
  },
  {
   "cell_type": "code",
   "execution_count": 8,
   "metadata": {},
   "outputs": [],
   "source": [
    "X = df.drop('Response', axis= 1) \n",
    "y = df['Response']"
   ]
  },
  {
   "cell_type": "markdown",
   "metadata": {},
   "source": [
    "### Splitting Training and Test"
   ]
  },
  {
   "cell_type": "code",
   "execution_count": 9,
   "metadata": {},
   "outputs": [],
   "source": [
    "X_train, X_test, y_train, y_test = train_test_split(X, y, test_size= 0.2, random_state = 42)"
   ]
  },
  {
   "cell_type": "markdown",
   "metadata": {},
   "source": [
    "### Modelling"
   ]
  },
  {
   "cell_type": "code",
   "execution_count": 10,
   "metadata": {},
   "outputs": [],
   "source": [
    "#Standardization\n",
    "sc = StandardScaler()\n",
    "X_train = sc.fit_transform(X_train) \n",
    "X_test = sc.transform(X_test)"
   ]
  },
  {
   "cell_type": "code",
   "execution_count": 11,
   "metadata": {},
   "outputs": [
    {
     "data": {
      "text/plain": [
       "array([ 0.02970468,  0.00114245, -0.07000851,  0.01731303,  0.00591031,\n",
       "        0.16376209, -0.08432386, -0.0180104 ,  0.05831902, -0.03111151,\n",
       "        0.01311282, -0.03363883,  0.00835653])"
      ]
     },
     "execution_count": 11,
     "metadata": {},
     "output_type": "execute_result"
    }
   ],
   "source": [
    "#Simple Linear Regression\n",
    "model = LinearRegression()\n",
    "model.fit(X_train, y_train)\n",
    "model.coef_"
   ]
  },
  {
   "cell_type": "code",
   "execution_count": 12,
   "metadata": {},
   "outputs": [
    {
     "data": {
      "text/plain": [
       "array([ 0.07816582,  0.14715814,  0.37243212,  0.15808636,  0.17480179,\n",
       "        0.07299931,  0.34222789, -0.01035451,  0.35131402, -0.00213231,\n",
       "        0.15886947,  0.14437504,  0.16338659,  0.70154006,  0.18528789,\n",
       "        0.13849264,  0.01580856,  0.05368099,  0.3097376 ,  0.07323415,\n",
       "        0.39523137,  0.11718222,  0.41607408,  0.1426898 ,  0.25386681,\n",
       "        0.10115331,  0.12571526,  0.15239345,  0.02759271,  0.15045378,\n",
       "        0.16690177,  0.15440294,  0.13548307,  0.24687354,  0.15610171,\n",
       "        0.3981934 ,  0.47738919,  0.34707408,  0.20560481, -0.08915522,\n",
       "       -0.01104964,  0.15100366,  0.2419518 ,  0.03195836,  0.0298574 ,\n",
       "        0.03662392,  0.09240813,  0.3618015 ,  0.42442872,  0.08516211,\n",
       "        0.24510889,  0.09394253,  0.01564279,  0.23916221,  0.02791649,\n",
       "        0.31103859,  0.05851035,  0.15086712,  0.07190918,  0.17373946,\n",
       "        0.09857687,  0.05534348,  0.22675186,  0.44135377,  0.10962949,\n",
       "        0.4639847 ,  0.70422319,  0.68595667,  0.06221031,  0.11319195,\n",
       "        0.12284173, -0.07624296,  0.00872777,  0.14445575,  0.18020575,\n",
       "        0.13729562,  0.01501849,  0.04752609,  0.34546501,  0.08474098,\n",
       "        0.1976635 , -0.09570923,  0.29825034,  0.00857074,  0.43723982,\n",
       "        0.20080492,  0.1206896 , -0.11475107,  0.29707956,  0.44336528,\n",
       "        0.27148688,  0.08909655,  0.28344946,  0.33380678,  0.03052459,\n",
       "        0.18653439,  0.16574436,  0.14531189,  0.19907343,  0.52522429,\n",
       "        0.34510003,  0.40785166,  0.27484053,  0.31317277,  0.00638384,\n",
       "        0.13681231, -0.04397965,  0.43829695,  0.16686136,  0.6502716 ,\n",
       "        0.090585  ,  0.00213379,  0.10539564,  0.15551393,  0.05736677,\n",
       "        0.02164431,  0.35093856,  0.11150245,  0.18528789,  0.35435251,\n",
       "        0.16334342,  0.12378449,  0.5541456 ,  0.03270687,  0.06975988,\n",
       "       -0.12895836,  0.32046276,  0.17517693,  0.23447712,  0.3112171 ,\n",
       "        0.15413345,  0.13485784,  0.09726696,  0.22890736,  0.29320405,\n",
       "        0.01177802,  0.19419861,  0.26793011,  0.53707273,  0.20560481,\n",
       "        0.01884195,  0.18229072,  0.1717559 ,  0.28147822,  0.1219514 ,\n",
       "        0.1053322 ,  0.27409308,  0.01286356,  0.26593574,  0.11346034,\n",
       "        0.04175753,  0.16401058,  0.31959881,  0.08357396,  0.1621925 ,\n",
       "        0.03742625,  0.23781035,  0.31169871,  0.22698342,  0.12056704,\n",
       "        0.10709203,  0.24597523,  0.1220613 ,  0.13107713,  0.19257854,\n",
       "        0.15612153,  0.55236693, -0.02504418,  0.05831255,  0.26180751,\n",
       "       -0.12925393,  0.13219779, -0.10072668,  0.22403554,  0.1675682 ,\n",
       "       -0.07295974, -0.07259879,  0.09474799,  0.35886907,  0.36806297,\n",
       "        0.08056349,  0.09067495,  0.35208045,  0.10705223,  0.06322001,\n",
       "       -0.08922154,  0.09850418, -0.00411571, -0.04793144,  0.40488982,\n",
       "        0.27416938,  0.46302991,  0.21113946,  0.06651153,  0.08817648,\n",
       "        0.05824834,  0.17349083,  0.14176316,  0.20714122,  0.12358321,\n",
       "        0.20155961,  0.53867987,  0.08594519,  0.2047845 ,  0.28075739,\n",
       "        0.34563517,  0.04810128,  0.28343599,  0.07049962,  0.01212568,\n",
       "        0.12114579,  0.44159645, -0.11602898,  0.16846568,  0.44234427,\n",
       "        0.10090653, -0.07736385, -0.07579927,  0.21945207,  0.10562116,\n",
       "        0.37341517,  0.16526445,  0.09384123,  0.16521511,  0.03985188,\n",
       "        0.01808131, -0.01709103,  0.42443156,  0.60319855,  0.07474838,\n",
       "       -0.02901991,  0.08215175,  0.25160113,  0.10223314,  0.34803925,\n",
       "       -0.01913343,  0.08513135,  0.24148518,  0.22863222,  0.16410365,\n",
       "        0.08248508,  0.24665518,  0.15266745,  0.31430766,  0.08527332,\n",
       "        0.22893899,  0.17342806,  0.31450409,  0.10212588,  0.14292096,\n",
       "        0.22491925, -0.11495459, -0.11111261,  0.25414731,  0.40405006,\n",
       "        0.06873189,  0.16545839,  0.1665912 ,  0.10696968, -0.09686978,\n",
       "        0.07534689,  0.05877202,  0.24491109,  0.15958346,  0.08036039,\n",
       "        0.12675134,  0.19884582,  0.0962711 ,  0.03572663,  0.16862893,\n",
       "        0.1956713 ,  0.18108036,  0.18771043,  0.26083049,  0.26697931,\n",
       "        0.01113381,  0.11691954,  0.12592431, -0.06407144,  0.10541538,\n",
       "        0.2955068 ,  0.07478908,  0.29523034,  0.42747134,  0.29676126,\n",
       "       -0.09081351,  0.70643948, -0.03643065,  0.25151762,  0.04450995,\n",
       "        0.10806851,  0.30285521,  0.12623974,  0.1349964 , -0.00242789,\n",
       "        0.34510003,  0.16113235,  0.1621925 ,  0.33262324,  0.01377307,\n",
       "        0.07987075,  0.00091707,  0.11652522,  0.20861327,  0.22040949,\n",
       "        0.03839109,  0.40223576,  0.33316851, -0.01673169,  0.39029804,\n",
       "       -0.0252042 ,  0.05397215,  0.12509269, -0.06838966,  0.34419406,\n",
       "       -0.04207573,  0.39649538,  0.51316328,  0.53013202,  0.03197969,\n",
       "        0.11174583,  0.07933763,  0.24629068, -0.09455133,  0.02738937,\n",
       "        0.15707905,  0.20897865,  0.00747288,  0.01389018,  0.1737122 ,\n",
       "        0.36188812,  0.19588371,  0.0133399 ,  0.09573335,  0.05927711,\n",
       "        0.03580939,  0.16988821, -0.01942218,  0.01385669,  0.43981949,\n",
       "        0.41701977,  0.3137867 , -0.07921341,  0.14844414,  0.12561499,\n",
       "        0.12909559, -0.01190796,  0.20137512,  0.05859887,  0.14640441,\n",
       "        0.02376934, -0.03440351,  0.23128056,  0.01536974, -0.01190243,\n",
       "        0.15517383,  0.1580558 ,  0.02058797, -0.13237653, -0.01282661,\n",
       "        0.127893  ,  0.12844092,  0.20287292,  0.16040344,  0.41957464,\n",
       "       -0.16707272,  0.03047161,  0.07298564,  0.27200929,  0.15464232,\n",
       "        0.57024533,  0.01959325,  0.37639836,  0.60069965,  0.36736575,\n",
       "        0.27557086,  0.19023066,  0.11136692,  0.18442176,  0.17827645,\n",
       "        0.29766122,  0.07117016, -0.01873831,  0.13067765,  0.3605412 ,\n",
       "       -0.00764508,  0.09890043, -0.10051856, -0.02846115, -0.02112444,\n",
       "        0.40648666,  0.10227192,  0.1985743 ,  0.0225342 , -0.09203654,\n",
       "        0.17891117, -0.02901991,  0.21180472,  0.11483886,  0.17614279,\n",
       "       -0.15855786,  0.09235935,  0.21968277,  0.24657719,  0.10849555,\n",
       "        0.13464516,  0.18362636,  0.41081994, -0.10670137,  0.15530017,\n",
       "        0.00149897,  0.32382487, -0.02753667, -0.04012205, -0.07199145,\n",
       "        0.30530858,  0.17798804,  0.41278833,  0.01636042,  0.24579413,\n",
       "        0.34043218,  0.15765213,  0.28145284,  0.14971086,  0.23729269,\n",
       "        0.22232204,  0.54808433,  0.25087404,  0.0466776 ,  0.64219441,\n",
       "        0.09954069,  0.50325509,  0.13320145,  0.13255148, -0.07053512,\n",
       "       -0.06636276,  0.10856866,  0.52712996,  0.11134791,  0.10429102,\n",
       "        0.03884033,  0.19867801,  0.1625071 ,  0.11720479,  0.06247518])"
      ]
     },
     "execution_count": 12,
     "metadata": {},
     "output_type": "execute_result"
    }
   ],
   "source": [
    "y_preds_reg = model.predict(X_test)\n",
    "y_preds_reg"
   ]
  },
  {
   "cell_type": "code",
   "execution_count": 13,
   "metadata": {},
   "outputs": [
    {
     "data": {
      "text/plain": [
       "array([0, 0, 0, 0, 0, 0, 0, 0, 0, 0, 0, 0, 0, 1, 0, 0, 0, 0, 0, 0, 0, 0,\n",
       "       0, 0, 0, 0, 0, 0, 0, 0, 0, 0, 0, 0, 0, 0, 0, 0, 0, 0, 0, 0, 0, 0,\n",
       "       0, 0, 0, 0, 0, 0, 0, 0, 0, 0, 0, 0, 0, 0, 0, 0, 0, 0, 0, 0, 0, 0,\n",
       "       1, 1, 0, 0, 0, 0, 0, 0, 0, 0, 0, 0, 0, 0, 0, 0, 0, 0, 0, 0, 0, 0,\n",
       "       0, 0, 0, 0, 0, 0, 0, 0, 0, 0, 0, 1, 0, 0, 0, 0, 0, 0, 0, 0, 0, 1,\n",
       "       0, 0, 0, 0, 0, 0, 0, 0, 0, 0, 0, 0, 1, 0, 0, 0, 0, 0, 0, 0, 0, 0,\n",
       "       0, 0, 0, 0, 0, 0, 1, 0, 0, 0, 0, 0, 0, 0, 0, 0, 0, 0, 0, 0, 0, 0,\n",
       "       0, 0, 0, 0, 0, 0, 0, 0, 0, 0, 0, 0, 1, 0, 0, 0, 0, 0, 0, 0, 0, 0,\n",
       "       0, 0, 0, 0, 0, 0, 0, 0, 0, 0, 0, 0, 0, 0, 0, 0, 0, 0, 0, 0, 0, 0,\n",
       "       0, 0, 0, 1, 0, 0, 0, 0, 0, 0, 0, 0, 0, 0, 0, 0, 0, 0, 0, 0, 0, 0,\n",
       "       0, 0, 0, 0, 0, 0, 0, 0, 1, 0, 0, 0, 0, 0, 0, 0, 0, 0, 0, 0, 0, 0,\n",
       "       0, 0, 0, 0, 0, 0, 0, 0, 0, 0, 0, 0, 0, 0, 0, 0, 0, 0, 0, 0, 0, 0,\n",
       "       0, 0, 0, 0, 0, 0, 0, 0, 0, 0, 0, 0, 0, 0, 0, 0, 0, 0, 0, 0, 0, 0,\n",
       "       1, 0, 0, 0, 0, 0, 0, 0, 0, 0, 0, 0, 0, 0, 0, 0, 0, 0, 0, 0, 0, 0,\n",
       "       0, 0, 0, 0, 0, 0, 0, 0, 0, 1, 1, 0, 0, 0, 0, 0, 0, 0, 0, 0, 0, 0,\n",
       "       0, 0, 0, 0, 0, 0, 0, 0, 0, 0, 0, 0, 0, 0, 0, 0, 0, 0, 0, 0, 0, 0,\n",
       "       0, 0, 0, 0, 0, 0, 0, 0, 0, 0, 0, 0, 0, 0, 0, 0, 0, 0, 1, 0, 0, 1,\n",
       "       0, 0, 0, 0, 0, 0, 0, 0, 0, 0, 0, 0, 0, 0, 0, 0, 0, 0, 0, 0, 0, 0,\n",
       "       0, 0, 0, 0, 0, 0, 0, 0, 0, 0, 0, 0, 0, 0, 0, 0, 0, 0, 0, 0, 0, 0,\n",
       "       0, 0, 0, 0, 0, 0, 0, 0, 1, 0, 0, 1, 0, 1, 0, 0, 0, 0, 0, 1, 0, 0,\n",
       "       0, 0, 0, 0, 0])"
      ]
     },
     "execution_count": 13,
     "metadata": {},
     "output_type": "execute_result"
    }
   ],
   "source": [
    "#convert regression values into binary classification\n",
    "y_preds = np.where(y_preds_reg >= 0.5, 1, 0)\n",
    "y_preds"
   ]
  },
  {
   "cell_type": "code",
   "execution_count": 14,
   "metadata": {},
   "outputs": [],
   "source": [
    "acc = accuracy_score(y_test, y_preds)\n",
    "prec = precision_score(y_test, y_preds)\n",
    "rec = recall_score(y_test, y_preds)\n",
    "f1 = f1_score(y_test, y_preds)\n",
    "auc = roc_auc_score(y_test, y_preds)"
   ]
  },
  {
   "cell_type": "code",
   "execution_count": 15,
   "metadata": {},
   "outputs": [
    {
     "name": "stdout",
     "output_type": "stream",
     "text": [
      "Accuracy: 0.8494\n",
      "Precision: 0.4211\n",
      "Recall: 0.1250\n",
      "F1: 0.1928\n",
      "AUC: 0.5481\n"
     ]
    }
   ],
   "source": [
    "print(\"Accuracy: %.4f\" % acc)\n",
    "print(\"Precision: %.4f\" % prec)\n",
    "print(\"Recall: %.4f\" % rec)\n",
    "print(\"F1: %.4f\" % f1)\n",
    "print(\"AUC: %.4f\" % auc)"
   ]
  }
 ],
 "metadata": {
  "kernelspec": {
   "display_name": "Python 3",
   "language": "python",
   "name": "python3"
  },
  "language_info": {
   "codemirror_mode": {
    "name": "ipython",
    "version": 3
   },
   "file_extension": ".py",
   "mimetype": "text/x-python",
   "name": "python",
   "nbconvert_exporter": "python",
   "pygments_lexer": "ipython3",
   "version": "3.12.1"
  }
 },
 "nbformat": 4,
 "nbformat_minor": 2
}
